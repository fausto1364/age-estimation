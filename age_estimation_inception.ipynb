{
  "cells": [
    {
      "cell_type": "markdown",
      "metadata": {
        "id": "view-in-github",
        "colab_type": "text"
      },
      "source": [
        "<a href=\"https://colab.research.google.com/github/fausto1364/age-estimation/blob/main/age_estimation_inception.ipynb\" target=\"_parent\"><img src=\"https://colab.research.google.com/assets/colab-badge.svg\" alt=\"Open In Colab\"/></a>"
      ]
    },
    {
      "cell_type": "markdown",
      "metadata": {
        "id": "4oP948sesdx2"
      },
      "source": [
        "Age estimation including simplified inception blocks"
      ]
    },
    {
      "cell_type": "code",
      "execution_count": null,
      "metadata": {
        "id": "iA8uNcAfAV2O"
      },
      "outputs": [],
      "source": [
        "import os\n",
        "import re\n",
        "import csv\n",
        "import numpy as np\n",
        "import matplotlib.pyplot as plt\n",
        "import uuid\n",
        "\n",
        "# image manipulation\n",
        "from PIL import Image\n",
        "\n",
        "# deep learning\n",
        "import torch\n",
        "import torch.nn as nn\n",
        "import torch.optim as optim\n",
        "import torch.utils.data as data\n",
        "import torch.nn.functional as F"
      ]
    },
    {
      "cell_type": "code",
      "execution_count": null,
      "metadata": {
        "colab": {
          "base_uri": "https://localhost:8080/"
        },
        "id": "t9263BDgsXv7",
        "outputId": "b97e0b51-685e-4651-f923-c83759c13ca4"
      },
      "outputs": [
        {
          "output_type": "stream",
          "name": "stdout",
          "text": [
            "Drive already mounted at /content/drive; to attempt to forcibly remount, call drive.mount(\"/content/drive\", force_remount=True).\n"
          ]
        }
      ],
      "source": [
        "# mount drive to access APPA-REAL\n",
        "from google.colab import drive\n",
        "drive.mount('/content/drive')\n",
        "\n",
        "path='/content/drive/MyDrive/appa-real-release/'"
      ]
    },
    {
      "cell_type": "code",
      "execution_count": null,
      "metadata": {
        "id": "7rxaCu1-Dg5l",
        "colab": {
          "base_uri": "https://localhost:8080/",
          "height": 52
        },
        "outputId": "822e2176-981b-477b-ac14-458a16c83b1b"
      },
      "outputs": [
        {
          "output_type": "execute_result",
          "data": {
            "text/plain": [
              "\"image = Image.open(os.path.join(path,'005612.jpg_face.jpg'))\\nimage.show()\\nprint(image.format)\\nprint(image.mode)\\nprint(image.size)\\ntest = image.resize((64,64))\\ntest.show()\""
            ],
            "application/vnd.google.colaboratory.intrinsic+json": {
              "type": "string"
            }
          },
          "metadata": {},
          "execution_count": 3
        }
      ],
      "source": [
        "# just to store comands for Image...\n",
        "'''image = Image.open(os.path.join(path,'005612.jpg_face.jpg'))\n",
        "image.show()\n",
        "print(image.format)\n",
        "print(image.mode)\n",
        "print(image.size)\n",
        "test = image.resize((64,64))\n",
        "test.show()'''"
      ]
    },
    {
      "cell_type": "code",
      "execution_count": null,
      "metadata": {
        "id": "D5GtgdloFV9_"
      },
      "outputs": [],
      "source": [
        "# extracts only face detected jpegs. Then rescales size of image and converts to numpy matrix\n",
        "def preprocess(folder_path,size):\n",
        "  X=[] # contains processed images\n",
        "  y=[] # contains ids of images\n",
        "  # regular expression pattern to only extract files with face detection\n",
        "  pattern = r\"\\d+\\.jpg_face\\.jpg\"\n",
        "\n",
        "  # Loop over all files in the folder\n",
        "  for imagename in os.listdir(folder_path):\n",
        "    image_path = os.path.join(folder_path, imagename)\n",
        "\n",
        "    if re.match(pattern, imagename):\n",
        "      image = Image.open(image_path)\n",
        "      image = image.resize(size)\n",
        "      array = [[np.float32(value) for value in row] for row in image.getdata()]\n",
        "      X.append(np.array(array).reshape(image.size[1], image.size[0], 3))\n",
        "      y.append(imagename.split(\".\")[0])\n",
        "  return X,y"
      ]
    },
    {
      "cell_type": "code",
      "execution_count": null,
      "metadata": {
        "id": "-In5DH1SvJzW"
      },
      "outputs": [],
      "source": [
        "# read the csv files with the apparent ages\n",
        "def get_appaages(path):\n",
        "  id = []\n",
        "  appa_age = []\n",
        "\n",
        "  # Read the CSV file\n",
        "  with open(path, \"r\") as csv_file:\n",
        "    csv_reader = csv.reader(csv_file)\n",
        "\n",
        "    # Skip header\n",
        "    next(csv_reader)\n",
        "\n",
        "    # Iterate over each row in the CSV file\n",
        "    for row in csv_reader:\n",
        "        # Append the values of the first and third columns to their respective lists\n",
        "        id.append(row[0].split(\".\")[0])\n",
        "        appa_age.append(row[2])\n",
        "\n",
        "  return appa_age, id"
      ]
    },
    {
      "cell_type": "code",
      "execution_count": null,
      "metadata": {
        "id": "2t9O9lW1CFmK"
      },
      "outputs": [],
      "source": [
        "# allign two lists according to lists with ids\n",
        "def allign_lists(A,a,B,b):\n",
        "  X=[]\n",
        "  Y=[]\n",
        "  for i in range(len(A)):\n",
        "    X.append(A[i])\n",
        "    Y.append(np.float32(B[b.index(a[i])]))\n",
        "\n",
        "  return np.array(X),np.array(Y)"
      ]
    },
    {
      "cell_type": "code",
      "execution_count": null,
      "metadata": {
        "id": "G5fPAm-7wM4J"
      },
      "outputs": [],
      "source": [
        "# extract and preprocess images\n",
        "train_path = os.path.join(path, 'train/')\n",
        "valid_path = os.path.join(path, 'valid/')\n",
        "test_path = os.path.join(path, 'test/')\n",
        "\n",
        "images_train,ids_train_im = preprocess(train_path,(64,64))\n",
        "images_valid,ids_valid_im = preprocess(valid_path,(64,64))\n",
        "images_test,ids_test_im = preprocess(test_path,(64,64))\n",
        "\n",
        "# extract apparent ages\n",
        "gt_train = os.path.join(path, 'gt_avg_train.csv')\n",
        "gt_valid = os.path.join(path, 'gt_avg_valid.csv')\n",
        "gt_test = os.path.join(path, 'gt_avg_test.csv')\n",
        "\n",
        "appaages_train, ids_train_gt = get_appaages(gt_train)\n",
        "appaages_valid, ids_valid_gt = get_appaages(gt_valid)\n",
        "appaages_test, ids_test_gt = get_appaages(gt_test)\n",
        "\n",
        "# sort apparent ages by images through the ids\n",
        "images_train, appaages_train = allign_lists(images_train, ids_train_im, appaages_train, ids_train_gt)\n",
        "images_valid, appaages_valid = allign_lists(images_valid, ids_valid_im, appaages_valid, ids_valid_gt)\n",
        "images_test, appaages_test = allign_lists(images_test, ids_test_im, appaages_test, ids_test_gt)"
      ]
    },
    {
      "cell_type": "code",
      "execution_count": null,
      "metadata": {
        "id": "HaFZZaPu49GM"
      },
      "outputs": [],
      "source": [
        "# Convert data to PyTorch tensors\n",
        "train_data = data.TensorDataset(torch.tensor(images_train), torch.tensor(appaages_train))\n",
        "test_data = data.TensorDataset(torch.tensor(images_test), torch.tensor(appaages_test))\n",
        "valid_data = data.TensorDataset(torch.tensor(images_valid), torch.tensor(appaages_valid))\n",
        "\n",
        "# Create dataloaders\n",
        "batch_size = 32\n",
        "train_dataloader = data.DataLoader(train_data, batch_size=batch_size, shuffle=True)\n",
        "test_dataloader = data.DataLoader(test_data, batch_size=batch_size)\n",
        "valid_dataloader = data.DataLoader(valid_data, batch_size=batch_size)"
      ]
    },
    {
      "cell_type": "code",
      "source": [
        "class CNNmethods(nn.Module):\n",
        "    def training_step(self, batch):\n",
        "        images, labels = batch\n",
        "        out = self(images)                  # Generate predictions\n",
        "        loss = F.mse_loss(out, labels)\n",
        "        return loss\n",
        "\n",
        "    def validation_step(self, batch):\n",
        "        images, labels = batch\n",
        "        out = self(images)                    # Generate predictions\n",
        "        loss = F.mse_loss(out, labels)        # Calculate loss\n",
        "        return {'val_loss': loss.detach()}\n",
        "\n",
        "    def validation_epoch_end(self, outputs):\n",
        "        batch_losses = [x['val_loss'] for x in outputs]\n",
        "        epoch_loss = torch.stack(batch_losses).mean()    # Combine losses\n",
        "\n",
        "        #batch_accs = [x['val_acc'] for x in outputs]\n",
        "        #epoch_acc = torch.stack(batch_accs).mean()      # Combine accuracies\n",
        "        return {'val_loss': epoch_loss.item()}\n",
        "\n",
        "    def epoch_end(self, epoch, result):\n",
        "        print(\"Epoch [{}], train_loss: {:.4f}, val_loss: {:.4f}\".format(\n",
        "            epoch, result['train_loss'], result['val_loss']))"
      ],
      "metadata": {
        "id": "lPRNT59IDQ8C"
      },
      "execution_count": null,
      "outputs": []
    },
    {
      "cell_type": "code",
      "source": [
        "class simple_Inception(nn.Module):\n",
        "    def __init__(self, in_channels, out_channels):\n",
        "        super(simple_Inception, self).__init__()\n",
        "\n",
        "        self.conv1 = nn.Conv2d(in_channels, out_channels, kernel_size=(5, 5), stride=2, padding=2)\n",
        "        self.conv2 = nn.Conv2d(in_channels, out_channels, kernel_size=(3, 3), stride=2, padding=1)\n",
        "\n",
        "    def forward(self, inputs):\n",
        "        conv1 = self.conv1(inputs)\n",
        "        conv2 = self.conv2(inputs)\n",
        "\n",
        "        concat = torch.cat([conv1, conv2], dim=1)\n",
        "\n",
        "        return concat"
      ],
      "metadata": {
        "id": "845OhJY2tBHB"
      },
      "execution_count": null,
      "outputs": []
    },
    {
      "cell_type": "code",
      "execution_count": null,
      "metadata": {
        "id": "3QEwE2Zgs9nI"
      },
      "outputs": [],
      "source": [
        "# do the architecture. Basic, simple one\n",
        "class AgeEstimation(CNNmethods):\n",
        "  def __init__(self):\n",
        "    super().__init__()\n",
        "\n",
        "    self.inception1 = simple_Inception(3,8)\n",
        "    self.inception2 = simple_Inception(16,16)\n",
        "    self.inception3 = simple_Inception(32,32)\n",
        "\n",
        "    self.relu = nn.ReLU()\n",
        "\n",
        "    self.maxpool = nn.MaxPool2d(kernel_size=2, stride=1)\n",
        "\n",
        "    self.batchnorm1 = nn.BatchNorm2d(16)\n",
        "    self.batchnorm2 = nn.BatchNorm2d(32)\n",
        "    self.batchnorm3 = nn.BatchNorm2d(64)\n",
        "\n",
        "    self.dropout1 = nn.Dropout(p=0.4)\n",
        "    self.dropout2 = nn.Dropout(p=0.5)\n",
        "\n",
        "    self.fc1 = nn.Linear(3136, 1024)\n",
        "    self.fc2 = nn.Linear(1024, 1)\n",
        "\n",
        "\n",
        "  def forward(self, x):\n",
        "    x = x.permute(0, 3, 1, 2)\n",
        "\n",
        "    x = self.inception1(x)\n",
        "    x = self.relu(x)\n",
        "    x = self.maxpool(x)\n",
        "    x = self.batchnorm1(x)\n",
        "\n",
        "    x = self.inception2(x)\n",
        "    x = self.relu(x)\n",
        "    x = self.maxpool(x)\n",
        "    x = self.dropout1(x)\n",
        "    x = self.batchnorm2(x)\n",
        "\n",
        "    x = self.inception3(x)\n",
        "    x = self.relu(x)\n",
        "    x = self.maxpool(x)\n",
        "    x = self.dropout1(x)\n",
        "    x = self.batchnorm3(x)\n",
        "\n",
        "    x = torch.flatten(x, 1)\n",
        "\n",
        "    x = self.fc1(x)\n",
        "    x = self.relu(x)\n",
        "    x = self.dropout2(x)\n",
        "    x = self.fc2(x)\n",
        "\n",
        "    x = x.squeeze(1)\n",
        "\n",
        "    return x"
      ]
    },
    {
      "cell_type": "code",
      "source": [
        "@torch.no_grad()\n",
        "def evaluate(model, val_loader):\n",
        "    model.eval()\n",
        "    outputs = [model.validation_step(batch) for batch in val_loader]\n",
        "    return model.validation_epoch_end(outputs)\n",
        "\n",
        "def fit(epochs, lr, model, train_loader, val_loader, opt_func = torch.optim.SGD):\n",
        "\n",
        "    history = []\n",
        "    optimizer = opt_func(model.parameters(),lr)\n",
        "    for epoch in range(epochs):\n",
        "\n",
        "        model.train()\n",
        "        train_losses = []\n",
        "        for batch in train_loader:\n",
        "            loss = model.training_step(batch)\n",
        "            train_losses.append(loss)\n",
        "            loss.backward()\n",
        "            optimizer.step()\n",
        "            optimizer.zero_grad()\n",
        "\n",
        "        result = evaluate(model, val_loader)\n",
        "        result['train_loss'] = torch.stack(train_losses).mean().item()\n",
        "        model.epoch_end(epoch, result)\n",
        "        history.append(result)\n",
        "        '''if history[-1]['valid_loss'] > history[-2]['valid_loss'] + 3:\n",
        "          break'''\n",
        "\n",
        "    return history"
      ],
      "metadata": {
        "id": "DMW_8VMOKbd2"
      },
      "execution_count": null,
      "outputs": []
    },
    {
      "cell_type": "code",
      "execution_count": null,
      "metadata": {
        "id": "j7rUneFq60m3",
        "colab": {
          "base_uri": "https://localhost:8080/"
        },
        "outputId": "0916f79d-3253-4f1a-e567-207ceb8021af"
      },
      "outputs": [
        {
          "output_type": "stream",
          "name": "stdout",
          "text": [
            "Epoch [0], train_loss: 261.4243, val_loss: 207.8468\n",
            "Epoch [1], train_loss: 200.2838, val_loss: 198.5395\n",
            "Epoch [2], train_loss: 191.2096, val_loss: 181.3847\n",
            "Epoch [3], train_loss: 176.4798, val_loss: 175.0279\n",
            "Epoch [4], train_loss: 168.4863, val_loss: 176.2748\n",
            "Epoch [5], train_loss: 153.9431, val_loss: 203.9881\n",
            "Epoch [6], train_loss: 148.9396, val_loss: 157.6212\n",
            "Epoch [7], train_loss: 139.5592, val_loss: 161.5633\n",
            "Epoch [8], train_loss: 140.7209, val_loss: 152.3442\n",
            "Epoch [9], train_loss: 129.3153, val_loss: 152.0477\n",
            "Epoch [10], train_loss: 129.5212, val_loss: 156.9455\n",
            "Epoch [11], train_loss: 118.4265, val_loss: 149.4739\n",
            "Epoch [12], train_loss: 116.2092, val_loss: 145.2625\n",
            "Epoch [13], train_loss: 108.6339, val_loss: 162.8995\n",
            "Epoch [14], train_loss: 101.4889, val_loss: 159.0993\n",
            "Epoch [15], train_loss: 102.5969, val_loss: 147.8757\n",
            "Epoch [16], train_loss: 99.5600, val_loss: 170.1223\n",
            "Epoch [17], train_loss: 99.1039, val_loss: 161.8093\n",
            "Epoch [18], train_loss: 91.5684, val_loss: 144.9469\n",
            "Epoch [19], train_loss: 87.1597, val_loss: 188.1295\n",
            "Epoch [20], train_loss: 87.2137, val_loss: 152.2629\n",
            "Epoch [21], train_loss: 84.3960, val_loss: 146.4744\n",
            "Epoch [22], train_loss: 79.2700, val_loss: 158.7389\n",
            "Epoch [23], train_loss: 76.8803, val_loss: 138.4623\n",
            "Epoch [24], train_loss: 74.7572, val_loss: 146.8011\n",
            "Epoch [25], train_loss: 71.6998, val_loss: 144.7190\n",
            "Epoch [26], train_loss: 71.2094, val_loss: 139.8544\n",
            "Epoch [27], train_loss: 69.5602, val_loss: 137.9174\n",
            "Epoch [28], train_loss: 66.4779, val_loss: 140.3382\n",
            "Epoch [29], train_loss: 63.9194, val_loss: 135.7615\n"
          ]
        }
      ],
      "source": [
        "num_epochs = 30\n",
        "opt_func = torch.optim.Adam\n",
        "lr = 0.001\n",
        "model = AgeEstimation()\n",
        "torch.manual_seed(42)\n",
        "\n",
        "# fitting the model on training data and record the result after each epoch\n",
        "history = fit(num_epochs, lr, model, train_dataloader, valid_dataloader, opt_func)"
      ]
    },
    {
      "cell_type": "code",
      "source": [
        "def plot_losses(history):\n",
        "    \"\"\" Plot the losses in each epoch\"\"\"\n",
        "    train_losses = [x.get('train_loss') for x in history]\n",
        "    val_losses = [x['val_loss'] for x in history]\n",
        "    plt.plot(train_losses[1:], '-bx') # leave out first as this will distort everything (no range defined)\n",
        "    plt.plot(val_losses[1:], '-rx')\n",
        "    plt.xlabel('epoch')\n",
        "    plt.ylabel('loss')\n",
        "    plt.legend(['Training', 'Validation'])\n",
        "    plt.title('Loss vs. No. of epochs');\n",
        "\n",
        "plot_losses(history)"
      ],
      "metadata": {
        "id": "r4Fsy52ULdJ9",
        "colab": {
          "base_uri": "https://localhost:8080/",
          "height": 472
        },
        "outputId": "5061922f-0ed4-4c5f-c333-fbbc1995642d"
      },
      "execution_count": null,
      "outputs": [
        {
          "output_type": "display_data",
          "data": {
            "text/plain": [
              "<Figure size 640x480 with 1 Axes>"
            ],
            "image/png": "[encoded data removed]"
          },
          "metadata": {}
        }
      ]
    },
    {
      "cell_type": "markdown",
      "source": [
        "More things to consider are these:\n",
        "\n",
        "*   Check on the test set how the model performed\n",
        "*   Calculate MAE (Mean Absolute Error) to compare to https://github.com/yu4u/age-gender-estimation/blob/master/README.md\n",
        "*   How to make results reproducable"
      ],
      "metadata": {
        "id": "Z_cB9tUQObZY"
      }
    },
    {
      "cell_type": "code",
      "source": [
        "def calculate_MAE_MSE(dataloader):\n",
        "    # calculates MAE on test set\n",
        "    model.eval()\n",
        "    MAE=0\n",
        "    count=0\n",
        "\n",
        "    for images, labels in dataloader:\n",
        "        with torch.no_grad():\n",
        "            output = model(images)\n",
        "            for i in range(len(labels)):\n",
        "                MAE = MAE + abs(float(output[i])-float(labels[i]))\n",
        "                count+=1\n",
        "\n",
        "\n",
        "    MAE = MAE/count\n",
        "\n",
        "    out_MAE = 'MAE: ' + str(MAE) + '; '\n",
        "\n",
        "    # calculates MSE on test set\n",
        "    model.eval()\n",
        "    MSE=0\n",
        "    count=0\n",
        "\n",
        "    for images, labels in dataloader:\n",
        "        with torch.no_grad():\n",
        "            output = model(images)\n",
        "            for i in range(len(labels)):\n",
        "                MSE = MSE + (float(output[i])-float(labels[i]))**2\n",
        "                count+=1\n",
        "\n",
        "\n",
        "    MSE = MSE/count\n",
        "    out_MSE = 'MSE: ' + str(MSE)\n",
        "    return out_MAE+out_MSE\n",
        "\n",
        "print('train: \\n' + str(calculate_MAE_MSE(train_dataloader)))\n",
        "print('valid: \\n' + str(calculate_MAE_MSE(valid_dataloader)))\n",
        "print('test: \\n' + str(calculate_MAE_MSE(test_dataloader)))"
      ],
      "metadata": {
        "colab": {
          "base_uri": "https://localhost:8080/"
        },
        "id": "X-ovAffqOah_",
        "outputId": "db105225-a209-4a88-9ec5-b12d47d20cc5"
      },
      "execution_count": null,
      "outputs": [
        {
          "output_type": "stream",
          "name": "stdout",
          "text": [
            "train: \n",
            "MAE: 4.745230401827418; MSE: 35.374716610073094\n",
            "valid: \n",
            "MAE: 9.001559088985125; MSE: 135.68125247731655\n",
            "test: \n",
            "MAE: 10.18658509127291; MSE: 184.98063026684585\n"
          ]
        }
      ]
    }
  ],
  "metadata": {
    "colab": {
      "provenance": [],
      "mount_file_id": "11r4otEFT2crPr0bsoxXYV_XxY-Yr0VHA",
      "authorship_tag": "ABX9TyPWpYwocla2O/XVaCbY4Cse",
      "include_colab_link": true
    },
    "kernelspec": {
      "display_name": "Python 3",
      "name": "python3"
    },
    "language_info": {
      "name": "python"
    }
  },
  "nbformat": 4,
  "nbformat_minor": 0
}