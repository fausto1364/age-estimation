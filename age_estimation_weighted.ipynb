{
  "cells": [
    {
      "cell_type": "markdown",
      "metadata": {
        "id": "view-in-github",
        "colab_type": "text"
      },
      "source": [
        "<a href=\"https://colab.research.google.com/github/fausto1364/age-estimation/blob/main/age_estimation_weighted.ipynb\" target=\"_parent\"><img src=\"https://colab.research.google.com/assets/colab-badge.svg\" alt=\"Open In Colab\"/></a>"
      ]
    },
    {
      "cell_type": "markdown",
      "metadata": {
        "id": "4oP948sesdx2"
      },
      "source": [
        "Age estimation using AlexNet based architecture with weighted loss function"
      ]
    },
    {
      "cell_type": "code",
      "execution_count": null,
      "metadata": {
        "id": "iA8uNcAfAV2O"
      },
      "outputs": [],
      "source": [
        "import os\n",
        "import re\n",
        "import csv\n",
        "import numpy as np\n",
        "import matplotlib.pyplot as plt\n",
        "import uuid\n",
        "\n",
        "# image manipulation\n",
        "from PIL import Image\n",
        "\n",
        "# deep learning\n",
        "import torch\n",
        "import torch.nn as nn\n",
        "import torch.optim as optim\n",
        "import torch.utils.data as data\n",
        "import torch.nn.functional as F"
      ]
    },
    {
      "cell_type": "code",
      "execution_count": null,
      "metadata": {
        "colab": {
          "base_uri": "https://localhost:8080/"
        },
        "id": "t9263BDgsXv7",
        "outputId": "879a48b7-af10-4ba0-913e-6ded7f6895d9"
      },
      "outputs": [
        {
          "output_type": "stream",
          "name": "stdout",
          "text": [
            "Drive already mounted at /content/drive; to attempt to forcibly remount, call drive.mount(\"/content/drive\", force_remount=True).\n"
          ]
        }
      ],
      "source": [
        "# mount drive to access APPA-REAL\n",
        "from google.colab import drive\n",
        "drive.mount('/content/drive')\n",
        "\n",
        "path='/content/drive/MyDrive/appa-real-release/'"
      ]
    },
    {
      "cell_type": "code",
      "execution_count": null,
      "metadata": {
        "id": "7rxaCu1-Dg5l",
        "colab": {
          "base_uri": "https://localhost:8080/",
          "height": 52
        },
        "outputId": "53ffc137-321d-41d7-be76-fa4ac12da29d"
      },
      "outputs": [
        {
          "output_type": "execute_result",
          "data": {
            "text/plain": [
              "\"image = Image.open(os.path.join(path,'005612.jpg_face.jpg'))\\nimage.show()\\nprint(image.format)\\nprint(image.mode)\\nprint(image.size)\\ntest = image.resize((64,64))\\ntest.show()\""
            ],
            "application/vnd.google.colaboratory.intrinsic+json": {
              "type": "string"
            }
          },
          "metadata": {},
          "execution_count": 3
        }
      ],
      "source": [
        "# just to store comands for Image...\n",
        "'''image = Image.open(os.path.join(path,'005612.jpg_face.jpg'))\n",
        "image.show()\n",
        "print(image.format)\n",
        "print(image.mode)\n",
        "print(image.size)\n",
        "test = image.resize((64,64))\n",
        "test.show()'''"
      ]
    },
    {
      "cell_type": "code",
      "execution_count": null,
      "metadata": {
        "id": "D5GtgdloFV9_"
      },
      "outputs": [],
      "source": [
        "# extracts only face detected jpegs. Then rescales size of image and converts to numpy matrix\n",
        "def preprocess(folder_path,size):\n",
        "  X=[] # contains processed images\n",
        "  y=[] # contains ids of images\n",
        "  # regular expression pattern to only extract files with face detection\n",
        "  pattern = r\"\\d+\\.jpg_face\\.jpg\"\n",
        "\n",
        "  # Loop over all files in the folder\n",
        "  for imagename in os.listdir(folder_path):\n",
        "    image_path = os.path.join(folder_path, imagename)\n",
        "\n",
        "    if re.match(pattern, imagename):\n",
        "      image = Image.open(image_path)\n",
        "      image = image.resize(size)\n",
        "      array = [[np.float32(value) for value in row] for row in image.getdata()]\n",
        "      X.append(np.array(array).reshape(image.size[1], image.size[0], 3))\n",
        "      y.append(imagename.split(\".\")[0])\n",
        "  return X,y"
      ]
    },
    {
      "cell_type": "code",
      "execution_count": null,
      "metadata": {
        "id": "-In5DH1SvJzW"
      },
      "outputs": [],
      "source": [
        "# read the csv files with the apparent ages\n",
        "def get_appaages(path):\n",
        "  id = []\n",
        "  appa_age = []\n",
        "\n",
        "  # Read the CSV file\n",
        "  with open(path, \"r\") as csv_file:\n",
        "    csv_reader = csv.reader(csv_file)\n",
        "\n",
        "    # Skip header\n",
        "    next(csv_reader)\n",
        "\n",
        "    # Iterate over each row in the CSV file\n",
        "    for row in csv_reader:\n",
        "        # Append the values of the first and third columns to their respective lists\n",
        "        id.append(row[0].split(\".\")[0])\n",
        "        appa_age.append(row[2])\n",
        "\n",
        "  return appa_age, id"
      ]
    },
    {
      "cell_type": "code",
      "execution_count": null,
      "metadata": {
        "id": "2t9O9lW1CFmK"
      },
      "outputs": [],
      "source": [
        "# allign two lists according to lists with ids\n",
        "def allign_lists(A,a,B,b):\n",
        "  X=[]\n",
        "  Y=[]\n",
        "  for i in range(len(A)):\n",
        "    X.append(A[i])\n",
        "    Y.append(np.float32(B[b.index(a[i])]))\n",
        "\n",
        "  return np.array(X),np.array(Y)"
      ]
    },
    {
      "cell_type": "code",
      "execution_count": null,
      "metadata": {
        "id": "G5fPAm-7wM4J"
      },
      "outputs": [],
      "source": [
        "# extract and preprocess images\n",
        "train_path = os.path.join(path, 'train/')\n",
        "valid_path = os.path.join(path, 'valid/')\n",
        "test_path = os.path.join(path, 'test/')\n",
        "\n",
        "images_train,ids_train_im = preprocess(train_path,(64,64))\n",
        "images_valid,ids_valid_im = preprocess(valid_path,(64,64))\n",
        "images_test,ids_test_im = preprocess(test_path,(64,64))\n",
        "\n",
        "# extract apparent ages\n",
        "gt_train = os.path.join(path, 'gt_avg_train.csv')\n",
        "gt_valid = os.path.join(path, 'gt_avg_valid.csv')\n",
        "gt_test = os.path.join(path, 'gt_avg_test.csv')\n",
        "\n",
        "appaages_train, ids_train_gt = get_appaages(gt_train)\n",
        "appaages_valid, ids_valid_gt = get_appaages(gt_valid)\n",
        "appaages_test, ids_test_gt = get_appaages(gt_test)\n",
        "\n",
        "# sort apparent ages by images through the ids\n",
        "images_train, appaages_train = allign_lists(images_train, ids_train_im, appaages_train, ids_train_gt)\n",
        "images_valid, appaages_valid = allign_lists(images_valid, ids_valid_im, appaages_valid, ids_valid_gt)\n",
        "images_test, appaages_test = allign_lists(images_test, ids_test_im, appaages_test, ids_test_gt)"
      ]
    },
    {
      "cell_type": "code",
      "source": [
        "# calculate weights of train images to weight training\n",
        "def weights(ages):\n",
        "  A = np.ones(90) # initialize with ones to prevent problems in inversion\n",
        "  for age in ages:\n",
        "    A[round(age)] += 1\n",
        "  # now we have the distribution of the ages. to get weights:\n",
        "\n",
        "  for i in range(len(A)):\n",
        "    A[i] = 1/A[i]\n",
        "\n",
        "  return A*20\n",
        "\n",
        "dist_train = weights(appaages_train)\n",
        "print(dist_train)"
      ],
      "metadata": {
        "colab": {
          "base_uri": "https://localhost:8080/"
        },
        "id": "3a6DS0IhfA0m",
        "outputId": "7a0c8465-d24a-47d6-c550-12c228a3937e"
      },
      "execution_count": null,
      "outputs": [
        {
          "output_type": "stream",
          "name": "stdout",
          "text": [
            "[20.          0.35087719  0.36363636  0.86956522  0.40816327  0.40816327\n",
            "  0.4         0.58823529  0.76923077  0.86956522  1.25        1.11111111\n",
            "  1.42857143  1.33333333  1.11111111  0.64516129  0.37037037  0.24096386\n",
            "  0.33898305  0.21978022  0.1459854   0.16666667  0.13605442  0.12048193\n",
            "  0.10989011  0.11111111  0.12738854  0.12987013  0.13793103  0.13888889\n",
            "  0.15503876  0.18018018  0.17241379  0.2020202   0.23255814  0.23809524\n",
            "  0.23255814  0.21978022  0.26315789  0.30769231  0.33898305  0.37735849\n",
            "  0.38461538  0.48780488  0.46511628  0.47619048  0.47619048  0.52631579\n",
            "  0.60606061  0.58823529  0.64516129  0.55555556  0.38461538  0.52631579\n",
            "  0.625       0.60606061  0.55555556  0.8         0.8         1.05263158\n",
            "  0.8         0.95238095  1.81818182  1.05263158  2.85714286  1.53846154\n",
            "  2.22222222  3.33333333  1.25        2.85714286  4.          3.33333333\n",
            "  4.          2.85714286  5.          6.66666667  5.          6.66666667\n",
            " 20.          5.          5.          6.66666667  6.66666667 10.\n",
            " 10.         10.         20.         10.         20.         10.        ]\n"
          ]
        }
      ]
    },
    {
      "cell_type": "code",
      "execution_count": null,
      "metadata": {
        "id": "HaFZZaPu49GM"
      },
      "outputs": [],
      "source": [
        "# Convert data to PyTorch tensors\n",
        "train_data = data.TensorDataset(torch.tensor(images_train), torch.tensor(appaages_train))\n",
        "test_data = data.TensorDataset(torch.tensor(images_test), torch.tensor(appaages_test))\n",
        "valid_data = data.TensorDataset(torch.tensor(images_valid), torch.tensor(appaages_valid))\n",
        "\n",
        "# Create dataloaders\n",
        "batch_size = 32\n",
        "train_dataloader = data.DataLoader(train_data, batch_size=batch_size, shuffle=True)\n",
        "test_dataloader = data.DataLoader(test_data, batch_size=batch_size)\n",
        "valid_dataloader = data.DataLoader(valid_data, batch_size=batch_size)"
      ]
    },
    {
      "cell_type": "code",
      "source": [
        "class CNNmethods(nn.Module):\n",
        "    def training_step(self, batch, dist_train):\n",
        "        images, labels = batch\n",
        "        out = self(images)                  # Generate predictions\n",
        "        loss = 0\n",
        "        for i in range(len(labels)): # weighted MSE loss function\n",
        "          loss += (dist_train[round(labels[i].item())] * (out[i] - labels[i]) ** 2)\n",
        "        loss = loss / len(labels)\n",
        "        return loss\n",
        "\n",
        "    def validation_step(self, batch):\n",
        "        images, labels = batch\n",
        "        out = self(images)                    # Generate predictions\n",
        "        loss = F.mse_loss(out, labels)        # Calculate loss\n",
        "        return {'val_loss': loss.detach()}\n",
        "\n",
        "    def validation_epoch_end(self, outputs):\n",
        "        batch_losses = [x['val_loss'] for x in outputs]\n",
        "        epoch_loss = torch.stack(batch_losses).mean()    # Combine losses\n",
        "\n",
        "        #batch_accs = [x['val_acc'] for x in outputs]\n",
        "        #epoch_acc = torch.stack(batch_accs).mean()      # Combine accuracies\n",
        "        return {'val_loss': epoch_loss.item()}\n",
        "\n",
        "    def epoch_end(self, epoch, result):\n",
        "        print(\"Epoch [{}], train_loss: {:.4f}, val_loss: {:.4f}\".format(\n",
        "            epoch, result['train_loss'], result['val_loss']))"
      ],
      "metadata": {
        "id": "lPRNT59IDQ8C"
      },
      "execution_count": null,
      "outputs": []
    },
    {
      "cell_type": "code",
      "execution_count": null,
      "metadata": {
        "id": "3QEwE2Zgs9nI"
      },
      "outputs": [],
      "source": [
        "# do the architecture. Basic, simple one\n",
        "class AgeEstimation(CNNmethods):\n",
        "  def __init__(self):\n",
        "    super().__init__()\n",
        "\n",
        "    self.conv1 = nn.Conv2d(3, 16, kernel_size=5, stride=2, padding=1)\n",
        "    self.conv2 = nn.Conv2d(16, 32, kernel_size=3, stride=1, padding=1)\n",
        "    self.conv3 = nn.Conv2d(32, 64, kernel_size=3, stride=1, padding=1)\n",
        "\n",
        "    self.relu = nn.ReLU()\n",
        "\n",
        "    self.maxpool = nn.MaxPool2d(kernel_size=2, stride=2)\n",
        "\n",
        "    self.batchnorm1 = nn.BatchNorm2d(16)\n",
        "    self.batchnorm2 = nn.BatchNorm2d(32)\n",
        "    self.batchnorm3 = nn.BatchNorm2d(64)\n",
        "\n",
        "    self.dropout1 = nn.Dropout(p=0.2)\n",
        "    self.dropout2 = nn.Dropout(p=0.4)\n",
        "\n",
        "    self.fc1 = nn.Linear(576, 1024)\n",
        "    self.fc2 = nn.Linear(1024, 1)\n",
        "\n",
        "\n",
        "  def forward(self, x):\n",
        "    x = x.permute(0, 3, 1, 2)\n",
        "\n",
        "    x = self.conv1(x)\n",
        "    x = self.relu(x)\n",
        "    x = self.maxpool(x)\n",
        "    x = self.batchnorm1(x)\n",
        "\n",
        "    x = self.conv2(x)\n",
        "    x = self.relu(x)\n",
        "    x = self.maxpool(x)\n",
        "    x = self.dropout1(x)\n",
        "    x = self.batchnorm2(x)\n",
        "\n",
        "    x = self.conv3(x)\n",
        "    x = self.relu(x)\n",
        "    x = self.maxpool(x)\n",
        "    x = self.dropout1(x)\n",
        "    x = self.batchnorm3(x)\n",
        "\n",
        "    x = torch.flatten(x, 1)\n",
        "\n",
        "    x = self.fc1(x)\n",
        "    x = self.relu(x)\n",
        "    x = self.dropout2(x)\n",
        "    x = self.fc2(x)\n",
        "\n",
        "    x = x.squeeze(1)\n",
        "\n",
        "    return x"
      ]
    },
    {
      "cell_type": "code",
      "source": [
        "@torch.no_grad()\n",
        "def evaluate(model, val_loader):\n",
        "    model.eval()\n",
        "    outputs = [model.validation_step(batch) for batch in val_loader]\n",
        "    return model.validation_epoch_end(outputs)\n",
        "\n",
        "def fit(epochs, lr, model, train_loader, val_loader, dist_train, opt_func = torch.optim.SGD):\n",
        "\n",
        "    history = []\n",
        "    optimizer = opt_func(model.parameters(),lr)\n",
        "    for epoch in range(epochs):\n",
        "\n",
        "        model.train()\n",
        "        train_losses = []\n",
        "        for batch in train_loader:\n",
        "            loss = model.training_step(batch, dist_train)\n",
        "            train_losses.append(loss)\n",
        "            loss.backward()\n",
        "            optimizer.step()\n",
        "            optimizer.zero_grad()\n",
        "\n",
        "        result = evaluate(model, val_loader)\n",
        "        #result['val_loss_MAE'] = evaluate_MAE(model, val_loader)\n",
        "        result['train_loss'] = torch.stack(train_losses).mean().item()\n",
        "        model.epoch_end(epoch, result)\n",
        "        history.append(result)\n",
        "\n",
        "    return history"
      ],
      "metadata": {
        "id": "DMW_8VMOKbd2"
      },
      "execution_count": null,
      "outputs": []
    },
    {
      "cell_type": "code",
      "execution_count": null,
      "metadata": {
        "id": "j7rUneFq60m3",
        "colab": {
          "base_uri": "https://localhost:8080/"
        },
        "outputId": "ba27c9a1-5da6-4b23-825d-20e3d87beab7"
      },
      "outputs": [
        {
          "output_type": "stream",
          "name": "stdout",
          "text": [
            "Epoch [0], train_loss: 269.8429, val_loss: 320.4278\n",
            "Epoch [1], train_loss: 167.1353, val_loss: 355.1295\n",
            "Epoch [2], train_loss: 151.5968, val_loss: 251.6102\n",
            "Epoch [3], train_loss: 137.4053, val_loss: 498.3159\n",
            "Epoch [4], train_loss: 122.7868, val_loss: 222.8654\n",
            "Epoch [5], train_loss: 109.7453, val_loss: 224.4055\n",
            "Epoch [6], train_loss: 109.1515, val_loss: 280.2693\n",
            "Epoch [7], train_loss: 113.7517, val_loss: 236.5795\n",
            "Epoch [8], train_loss: 100.4634, val_loss: 336.1136\n",
            "Epoch [9], train_loss: 91.5156, val_loss: 216.6654\n",
            "Epoch [10], train_loss: 82.7400, val_loss: 251.5844\n",
            "Epoch [11], train_loss: 82.5707, val_loss: 205.0580\n",
            "Epoch [12], train_loss: 80.3425, val_loss: 275.5641\n",
            "Epoch [13], train_loss: 73.7408, val_loss: 199.5314\n",
            "Epoch [14], train_loss: 68.5015, val_loss: 237.3293\n",
            "Epoch [15], train_loss: 67.7924, val_loss: 227.4959\n",
            "Epoch [16], train_loss: 64.0569, val_loss: 207.1207\n",
            "Epoch [17], train_loss: 68.1037, val_loss: 227.3587\n",
            "Epoch [18], train_loss: 62.1678, val_loss: 197.0396\n",
            "Epoch [19], train_loss: 61.0188, val_loss: 194.6420\n",
            "Epoch [20], train_loss: 62.8668, val_loss: 193.2192\n",
            "Epoch [21], train_loss: 57.2832, val_loss: 200.4658\n",
            "Epoch [22], train_loss: 60.8459, val_loss: 198.5856\n",
            "Epoch [23], train_loss: 52.1531, val_loss: 230.6322\n",
            "Epoch [24], train_loss: 52.1411, val_loss: 199.4332\n",
            "Epoch [25], train_loss: 52.7887, val_loss: 186.8790\n",
            "Epoch [26], train_loss: 56.5736, val_loss: 219.3362\n",
            "Epoch [27], train_loss: 53.9756, val_loss: 201.8949\n",
            "Epoch [28], train_loss: 50.5880, val_loss: 189.6150\n",
            "Epoch [29], train_loss: 55.2527, val_loss: 205.0127\n"
          ]
        }
      ],
      "source": [
        "num_epochs = 30\n",
        "opt_func = torch.optim.Adam\n",
        "lr = 0.001\n",
        "model = AgeEstimation()\n",
        "torch.manual_seed(42)\n",
        "\n",
        "# fitting the model on training data and record the result after each epoch\n",
        "history = fit(num_epochs, lr, model, train_dataloader, valid_dataloader, dist_train, opt_func)"
      ]
    },
    {
      "cell_type": "code",
      "source": [
        "def plot_losses(history):\n",
        "    \"\"\" Plot the losses in each epoch\"\"\"\n",
        "    train_losses = [x.get('train_loss') for x in history]\n",
        "    val_losses = [x['val_loss'] for x in history]\n",
        "    plt.plot(train_losses[1:], '-bx') # leave out first as this will distort everything (no range defined)\n",
        "    plt.plot(val_losses[1:], '-rx')\n",
        "    plt.xlabel('epoch')\n",
        "    plt.ylabel('loss')\n",
        "    plt.legend(['Training', 'Validation'])\n",
        "    plt.title('Loss vs. No. of epochs');\n",
        "\n",
        "plot_losses(history)"
      ],
      "metadata": {
        "id": "r4Fsy52ULdJ9",
        "colab": {
          "base_uri": "https://localhost:8080/",
          "height": 472
        },
        "outputId": "b95eaaa0-75c8-4f8e-8be0-d527fbf054a5"
      },
      "execution_count": null,
      "outputs": [
        {
          "output_type": "display_data",
          "data": {
            "text/plain": [
              "<Figure size 640x480 with 1 Axes>"
            ],
            "image/png": "[encoded data removed]"
          },
          "metadata": {}
        }
      ]
    },
    {
      "cell_type": "markdown",
      "source": [
        "More things to consider are these:\n",
        "\n",
        "*   Check on the test set how the model performed\n",
        "*   Calculate MAE (Mean Absolute Error) to compare to https://github.com/yu4u/age-gender-estimation/blob/master/README.md\n",
        "*   How to make results reproducable"
      ],
      "metadata": {
        "id": "Z_cB9tUQObZY"
      }
    },
    {
      "cell_type": "code",
      "source": [
        "def calculate_MAE_MSE(dataloader):\n",
        "    # calculates MAE on test set\n",
        "    model.eval()\n",
        "    MAE=0\n",
        "    count=0\n",
        "\n",
        "    for images, labels in dataloader:\n",
        "        with torch.no_grad():\n",
        "            output = model(images)\n",
        "            for i in range(len(labels)):\n",
        "                MAE = MAE + abs(float(output[i])-float(labels[i]))\n",
        "                count+=1\n",
        "\n",
        "\n",
        "    MAE = MAE/count\n",
        "\n",
        "    out_MAE = 'MAE: ' + str(MAE) + '; '\n",
        "\n",
        "    # calculates MSE on test set\n",
        "    model.eval()\n",
        "    MSE=0\n",
        "    count=0\n",
        "\n",
        "    for images, labels in dataloader:\n",
        "        with torch.no_grad():\n",
        "            output = model(images)\n",
        "            for i in range(len(labels)):\n",
        "                MSE = MSE + (float(output[i])-float(labels[i]))**2\n",
        "                count+=1\n",
        "\n",
        "\n",
        "    MSE = MSE/count\n",
        "    out_MSE = 'MSE: ' + str(MSE)\n",
        "    return out_MAE+out_MSE\n",
        "\n",
        "print('train: \\n' + str(calculate_MAE_MSE(train_dataloader)))\n",
        "print('valid: \\n' + str(calculate_MAE_MSE(valid_dataloader)))\n",
        "print('test: \\n' + str(calculate_MAE_MSE(test_dataloader)))"
      ],
      "metadata": {
        "colab": {
          "base_uri": "https://localhost:8080/"
        },
        "id": "X-ovAffqOah_",
        "outputId": "d931f21c-fdec-4786-dfcd-ace25e5671c2"
      },
      "execution_count": null,
      "outputs": [
        {
          "output_type": "stream",
          "name": "stdout",
          "text": [
            "train: \n",
            "MAE: 8.097158548589492; MSE: 109.51243710027232\n",
            "valid: \n",
            "MAE: 10.923037273774545; MSE: 204.73527364076887\n",
            "test: \n",
            "MAE: 11.859363764110121; MSE: 235.24615716434178\n"
          ]
        }
      ]
    },
    {
      "cell_type": "code",
      "source": [
        "# some weird problems with this architecture from (https://pyimagesearch.com/2021/07/19/pytorch-training-your-first-convolutional-neural-network-cnn/)\n",
        "'''class LeNet(nn.Module):\n",
        "    def __init__(self, numChannels):\n",
        "\t\t    # call the parent constructor\n",
        "\t\t    super(LeNet, self).__init__()\n",
        "\t\t    # initialize first set of CONV => RELU => POOL layers\n",
        "\t\t    self.conv1 = nn.Conv2d(in_channels=numChannels, out_channels=20, kernel_size=(5, 5))\n",
        "\t\t    self.relu1 = nn.ReLU()\n",
        "\t\t    self.maxpool1 = nn.MaxPool2d(kernel_size=(2, 2), stride=(2, 2))\n",
        "\t\t    # initialize second set of CONV => RELU => POOL layers\n",
        "\t\t    self.conv2 = nn.Conv2d(in_channels=20, out_channels=50, kernel_size=(5, 5))\n",
        "\t\t    self.relu2 = nn.ReLU()\n",
        "\t\t    self.maxpool2 = nn.MaxPool2d(kernel_size=(2, 2), stride=(2, 2))\n",
        "\t\t    # initialize first (and only) set of FC => RELU layers\n",
        "\t\t    self.fc1 = nn.Linear(in_features=800, out_features=500)\n",
        "\t\t    self.relu3 = nn.ReLU()\n",
        "\t\t    # initialize our softmax classifier\n",
        "\t\t    self.fc2 = nn.Linear(in_features=500, out_features=1)\n",
        "\t\t    self.logSoftmax = nn.LogSoftmax(dim=1)\n",
        "\n",
        "    def forward(self, x):\n",
        "\t\t    # pass the input through our first set of CONV => RELU =>\n",
        "\t\t    # POOL layers\n",
        "\t\tx = self.conv1(x)\n",
        "\t\tx = self.relu1(x)\n",
        "\t\tx = self.maxpool1(x)\n",
        "\t\t# pass the output from the previous layer through the second\n",
        "\t\t# set of CONV => RELU => POOL layers\n",
        "\t\tx = self.conv2(x)\n",
        "\t\tx = self.relu2(x)\n",
        "\t\tx = self.maxpool2(x)\n",
        "\t\t# flatten the output from the previous layer and pass it\n",
        "\t\t# through our only set of FC => RELU layers\n",
        "\t\tx = nn.flatten(x, 1)\n",
        "\t\tx = self.fc1(x)\n",
        "\t\tx = self.relu3(x)\n",
        "\t\t# pass the output to our softmax classifier to get our output\n",
        "\t\t# predictions\n",
        "\t\tx = self.fc2(x)\n",
        "\t\toutput = self.logSoftmax(x)\n",
        "\t\t# return the output predictions\n",
        "\t\treturn output'''"
      ],
      "metadata": {
        "id": "FL6CjRsjex6G"
      },
      "execution_count": null,
      "outputs": []
    }
  ],
  "metadata": {
    "colab": {
      "provenance": [],
      "mount_file_id": "11r4otEFT2crPr0bsoxXYV_XxY-Yr0VHA",
      "authorship_tag": "ABX9TyOBA5by1Bthni0sE8VrBdNL",
      "include_colab_link": true
    },
    "kernelspec": {
      "display_name": "Python 3",
      "name": "python3"
    },
    "language_info": {
      "name": "python"
    }
  },
  "nbformat": 4,
  "nbformat_minor": 0
}