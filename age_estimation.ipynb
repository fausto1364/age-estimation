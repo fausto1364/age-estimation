{
  "nbformat": 4,
  "nbformat_minor": 0,
  "metadata": {
    "colab": {
      "provenance": [],
      "mount_file_id": "11r4otEFT2crPr0bsoxXYV_XxY-Yr0VHA",
      "authorship_tag": "ABX9TyMWXoB8BJbD1w5FrwBeNFEa"
    },
    "kernelspec": {
      "name": "python3",
      "display_name": "Python 3"
    },
    "language_info": {
      "name": "python"
    }
  },
  "cells": [
    {
      "cell_type": "markdown",
      "source": [
        "Age estimation using AlexNet based architecture"
      ],
      "metadata": {
        "id": "4oP948sesdx2"
      }
    },
    {
      "cell_type": "code",
      "execution_count": 1,
      "metadata": {
        "id": "iCX0_-43mJus"
      },
      "outputs": [],
      "source": [
        "# mount drive, access APA-REAL\n",
        "path='/content/drive/MyDrive/appa-real-release'"
      ]
    },
    {
      "cell_type": "code",
      "source": [],
      "metadata": {
        "id": "uYpnvweZ_W95"
      },
      "execution_count": null,
      "outputs": []
    },
    {
      "cell_type": "code",
      "source": [
        "# preprocessing: What needs to be done?\n",
        "# adapt the size of the images?\n",
        "# do the split in training, test, validation\n",
        "# have the apparent age stored somehow"
      ],
      "metadata": {
        "id": "KUpD-SmUsojb"
      },
      "execution_count": null,
      "outputs": []
    },
    {
      "cell_type": "code",
      "source": [
        "# read the csv files with the apparent ages"
      ],
      "metadata": {
        "id": "CY8y3FkJUWjk"
      },
      "execution_count": null,
      "outputs": []
    },
    {
      "cell_type": "code",
      "source": [
        "# do the architecture. Basic, simple one"
      ],
      "metadata": {
        "id": "3QEwE2Zgs9nI"
      },
      "execution_count": null,
      "outputs": []
    },
    {
      "cell_type": "code",
      "source": [
        "# do the training"
      ],
      "metadata": {
        "id": "R6wJvf6HtBbW"
      },
      "execution_count": null,
      "outputs": []
    },
    {
      "cell_type": "code",
      "source": [
        "# do the evaluation"
      ],
      "metadata": {
        "id": "cLMDVKeQtDiT"
      },
      "execution_count": null,
      "outputs": []
    }
  ]
}